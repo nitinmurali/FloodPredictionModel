{
  "nbformat": 4,
  "nbformat_minor": 0,
  "metadata": {
    "colab": {
      "name": "Flood-prediction.ipynb",
      "provenance": [],
      "collapsed_sections": []
    },
    "kernelspec": {
      "name": "python3",
      "display_name": "Python 3"
    }
  },
  "cells": [
    {
      "cell_type": "markdown",
      "metadata": {
        "id": "hX7VZfu1leJN"
      },
      "source": [
        "Importing Libraries"
      ]
    },
    {
      "cell_type": "code",
      "metadata": {
        "id": "i8lYXgXDlkRz"
      },
      "source": [
        "import numpy as np \r\n",
        "import matplotlib.pyplot as plt\r\n",
        "import pandas as pd"
      ],
      "execution_count": 1,
      "outputs": []
    },
    {
      "cell_type": "markdown",
      "metadata": {
        "id": "mu2bB6g6ln_J"
      },
      "source": [
        "Importing Dataset"
      ]
    },
    {
      "cell_type": "code",
      "metadata": {
        "id": "2rk6p68xlqyf"
      },
      "source": [
        "dataset = pd.read_csv('kerala.csv')\r\n",
        "X = dataset.iloc[:,1:14].values\r\n",
        "y=dataset.iloc[:,-1].values"
      ],
      "execution_count": 3,
      "outputs": []
    },
    {
      "cell_type": "markdown",
      "metadata": {
        "id": "9eUMBQK6mcTq"
      },
      "source": [
        "Analyse and Visualise the dataset"
      ]
    },
    {
      "cell_type": "code",
      "metadata": {
        "colab": {
          "base_uri": "https://localhost:8080/"
        },
        "id": "coIgt-3bmgam",
        "outputId": "dd82dda7-1b7b-4f09-cc4d-a577997016e2"
      },
      "source": [
        "dataset.isnull().sum() #check if there are any missing values column wise"
      ],
      "execution_count": 4,
      "outputs": [
        {
          "output_type": "execute_result",
          "data": {
            "text/plain": [
              "SUBDIVISION         0\n",
              "YEAR                0\n",
              "JAN                 0\n",
              "FEB                 0\n",
              "MAR                 0\n",
              "APR                 0\n",
              "MAY                 0\n",
              "JUN                 0\n",
              "JUL                 0\n",
              "AUG                 0\n",
              "SEP                 0\n",
              "OCT                 0\n",
              "NOV                 0\n",
              "DEC                 0\n",
              " ANNUAL RAINFALL    0\n",
              "FLOODS              0\n",
              "dtype: int64"
            ]
          },
          "metadata": {
            "tags": []
          },
          "execution_count": 4
        }
      ]
    },
    {
      "cell_type": "code",
      "metadata": {
        "colab": {
          "base_uri": "https://localhost:8080/"
        },
        "id": "k7p7IFrWmxE1",
        "outputId": "1717c52f-a7a5-42a0-a11f-99b21671127b"
      },
      "source": [
        "print(dataset.shape) #print the total number of instances and features"
      ],
      "execution_count": 5,
      "outputs": [
        {
          "output_type": "stream",
          "text": [
            "(118, 16)\n"
          ],
          "name": "stdout"
        }
      ]
    },
    {
      "cell_type": "code",
      "metadata": {
        "colab": {
          "base_uri": "https://localhost:8080/",
          "height": 331
        },
        "id": "u3rqFux1m2bA",
        "outputId": "afc70dce-e1fb-4bee-d3c3-6403760116bd"
      },
      "source": [
        "dataset.describe() #display the dataset"
      ],
      "execution_count": 6,
      "outputs": [
        {
          "output_type": "execute_result",
          "data": {
            "text/html": [
              "<div>\n",
              "<style scoped>\n",
              "    .dataframe tbody tr th:only-of-type {\n",
              "        vertical-align: middle;\n",
              "    }\n",
              "\n",
              "    .dataframe tbody tr th {\n",
              "        vertical-align: top;\n",
              "    }\n",
              "\n",
              "    .dataframe thead th {\n",
              "        text-align: right;\n",
              "    }\n",
              "</style>\n",
              "<table border=\"1\" class=\"dataframe\">\n",
              "  <thead>\n",
              "    <tr style=\"text-align: right;\">\n",
              "      <th></th>\n",
              "      <th>YEAR</th>\n",
              "      <th>JAN</th>\n",
              "      <th>FEB</th>\n",
              "      <th>MAR</th>\n",
              "      <th>APR</th>\n",
              "      <th>MAY</th>\n",
              "      <th>JUN</th>\n",
              "      <th>JUL</th>\n",
              "      <th>AUG</th>\n",
              "      <th>SEP</th>\n",
              "      <th>OCT</th>\n",
              "      <th>NOV</th>\n",
              "      <th>DEC</th>\n",
              "      <th>ANNUAL RAINFALL</th>\n",
              "    </tr>\n",
              "  </thead>\n",
              "  <tbody>\n",
              "    <tr>\n",
              "      <th>count</th>\n",
              "      <td>118.000000</td>\n",
              "      <td>118.000000</td>\n",
              "      <td>118.000000</td>\n",
              "      <td>118.000000</td>\n",
              "      <td>118.000000</td>\n",
              "      <td>118.000000</td>\n",
              "      <td>118.000000</td>\n",
              "      <td>118.000000</td>\n",
              "      <td>118.000000</td>\n",
              "      <td>118.000000</td>\n",
              "      <td>118.000000</td>\n",
              "      <td>118.000000</td>\n",
              "      <td>118.000000</td>\n",
              "      <td>118.000000</td>\n",
              "    </tr>\n",
              "    <tr>\n",
              "      <th>mean</th>\n",
              "      <td>1959.500000</td>\n",
              "      <td>12.218644</td>\n",
              "      <td>15.633898</td>\n",
              "      <td>36.670339</td>\n",
              "      <td>110.330508</td>\n",
              "      <td>228.644915</td>\n",
              "      <td>651.617797</td>\n",
              "      <td>698.220339</td>\n",
              "      <td>430.369492</td>\n",
              "      <td>246.207627</td>\n",
              "      <td>293.207627</td>\n",
              "      <td>162.311017</td>\n",
              "      <td>40.009322</td>\n",
              "      <td>2925.405085</td>\n",
              "    </tr>\n",
              "    <tr>\n",
              "      <th>std</th>\n",
              "      <td>34.207699</td>\n",
              "      <td>15.473766</td>\n",
              "      <td>16.406290</td>\n",
              "      <td>30.063862</td>\n",
              "      <td>44.633452</td>\n",
              "      <td>147.548778</td>\n",
              "      <td>186.181363</td>\n",
              "      <td>228.988966</td>\n",
              "      <td>181.980463</td>\n",
              "      <td>121.901131</td>\n",
              "      <td>93.705253</td>\n",
              "      <td>83.200485</td>\n",
              "      <td>36.676330</td>\n",
              "      <td>452.169407</td>\n",
              "    </tr>\n",
              "    <tr>\n",
              "      <th>min</th>\n",
              "      <td>1901.000000</td>\n",
              "      <td>0.000000</td>\n",
              "      <td>0.000000</td>\n",
              "      <td>0.100000</td>\n",
              "      <td>13.100000</td>\n",
              "      <td>53.400000</td>\n",
              "      <td>196.800000</td>\n",
              "      <td>167.500000</td>\n",
              "      <td>178.600000</td>\n",
              "      <td>41.300000</td>\n",
              "      <td>68.500000</td>\n",
              "      <td>31.500000</td>\n",
              "      <td>0.100000</td>\n",
              "      <td>2068.800000</td>\n",
              "    </tr>\n",
              "    <tr>\n",
              "      <th>25%</th>\n",
              "      <td>1930.250000</td>\n",
              "      <td>2.175000</td>\n",
              "      <td>4.700000</td>\n",
              "      <td>18.100000</td>\n",
              "      <td>74.350000</td>\n",
              "      <td>125.050000</td>\n",
              "      <td>535.550000</td>\n",
              "      <td>533.200000</td>\n",
              "      <td>316.725000</td>\n",
              "      <td>155.425000</td>\n",
              "      <td>222.125000</td>\n",
              "      <td>93.025000</td>\n",
              "      <td>10.350000</td>\n",
              "      <td>2613.525000</td>\n",
              "    </tr>\n",
              "    <tr>\n",
              "      <th>50%</th>\n",
              "      <td>1959.500000</td>\n",
              "      <td>5.800000</td>\n",
              "      <td>8.350000</td>\n",
              "      <td>28.400000</td>\n",
              "      <td>110.400000</td>\n",
              "      <td>184.600000</td>\n",
              "      <td>625.600000</td>\n",
              "      <td>691.650000</td>\n",
              "      <td>386.250000</td>\n",
              "      <td>223.550000</td>\n",
              "      <td>284.300000</td>\n",
              "      <td>152.450000</td>\n",
              "      <td>31.100000</td>\n",
              "      <td>2934.300000</td>\n",
              "    </tr>\n",
              "    <tr>\n",
              "      <th>75%</th>\n",
              "      <td>1988.750000</td>\n",
              "      <td>18.175000</td>\n",
              "      <td>21.400000</td>\n",
              "      <td>49.825000</td>\n",
              "      <td>136.450000</td>\n",
              "      <td>264.875000</td>\n",
              "      <td>786.975000</td>\n",
              "      <td>832.425000</td>\n",
              "      <td>500.100000</td>\n",
              "      <td>334.500000</td>\n",
              "      <td>355.150000</td>\n",
              "      <td>218.325000</td>\n",
              "      <td>54.025000</td>\n",
              "      <td>3170.400000</td>\n",
              "    </tr>\n",
              "    <tr>\n",
              "      <th>max</th>\n",
              "      <td>2018.000000</td>\n",
              "      <td>83.500000</td>\n",
              "      <td>79.000000</td>\n",
              "      <td>217.200000</td>\n",
              "      <td>238.000000</td>\n",
              "      <td>738.800000</td>\n",
              "      <td>1098.200000</td>\n",
              "      <td>1526.500000</td>\n",
              "      <td>1398.900000</td>\n",
              "      <td>526.700000</td>\n",
              "      <td>567.900000</td>\n",
              "      <td>365.600000</td>\n",
              "      <td>202.300000</td>\n",
              "      <td>4473.000000</td>\n",
              "    </tr>\n",
              "  </tbody>\n",
              "</table>\n",
              "</div>"
            ],
            "text/plain": [
              "              YEAR         JAN  ...         DEC   ANNUAL RAINFALL\n",
              "count   118.000000  118.000000  ...  118.000000        118.000000\n",
              "mean   1959.500000   12.218644  ...   40.009322       2925.405085\n",
              "std      34.207699   15.473766  ...   36.676330        452.169407\n",
              "min    1901.000000    0.000000  ...    0.100000       2068.800000\n",
              "25%    1930.250000    2.175000  ...   10.350000       2613.525000\n",
              "50%    1959.500000    5.800000  ...   31.100000       2934.300000\n",
              "75%    1988.750000   18.175000  ...   54.025000       3170.400000\n",
              "max    2018.000000   83.500000  ...  202.300000       4473.000000\n",
              "\n",
              "[8 rows x 14 columns]"
            ]
          },
          "metadata": {
            "tags": []
          },
          "execution_count": 6
        }
      ]
    },
    {
      "cell_type": "code",
      "metadata": {
        "colab": {
          "base_uri": "https://localhost:8080/"
        },
        "id": "hFkv3UZys5N1",
        "outputId": "41c9dbf6-639b-4c26-f03f-43dd61dda415"
      },
      "source": [
        "dataset.info()"
      ],
      "execution_count": 7,
      "outputs": [
        {
          "output_type": "stream",
          "text": [
            "<class 'pandas.core.frame.DataFrame'>\n",
            "RangeIndex: 118 entries, 0 to 117\n",
            "Data columns (total 16 columns):\n",
            " #   Column            Non-Null Count  Dtype  \n",
            "---  ------            --------------  -----  \n",
            " 0   SUBDIVISION       118 non-null    object \n",
            " 1   YEAR              118 non-null    int64  \n",
            " 2   JAN               118 non-null    float64\n",
            " 3   FEB               118 non-null    float64\n",
            " 4   MAR               118 non-null    float64\n",
            " 5   APR               118 non-null    float64\n",
            " 6   MAY               118 non-null    float64\n",
            " 7   JUN               118 non-null    float64\n",
            " 8   JUL               118 non-null    float64\n",
            " 9   AUG               118 non-null    float64\n",
            " 10  SEP               118 non-null    float64\n",
            " 11  OCT               118 non-null    float64\n",
            " 12  NOV               118 non-null    float64\n",
            " 13  DEC               118 non-null    float64\n",
            " 14   ANNUAL RAINFALL  118 non-null    float64\n",
            " 15  FLOODS            118 non-null    object \n",
            "dtypes: float64(13), int64(1), object(2)\n",
            "memory usage: 14.9+ KB\n"
          ],
          "name": "stdout"
        }
      ]
    },
    {
      "cell_type": "code",
      "metadata": {
        "colab": {
          "base_uri": "https://localhost:8080/",
          "height": 533
        },
        "id": "3B9jmCZttdqv",
        "outputId": "faa30677-6da8-438b-b03e-aa08d058a0a5"
      },
      "source": [
        "corr_matrix = dataset.corr()\r\n",
        "corr_matrix"
      ],
      "execution_count": 10,
      "outputs": [
        {
          "output_type": "execute_result",
          "data": {
            "text/html": [
              "<div>\n",
              "<style scoped>\n",
              "    .dataframe tbody tr th:only-of-type {\n",
              "        vertical-align: middle;\n",
              "    }\n",
              "\n",
              "    .dataframe tbody tr th {\n",
              "        vertical-align: top;\n",
              "    }\n",
              "\n",
              "    .dataframe thead th {\n",
              "        text-align: right;\n",
              "    }\n",
              "</style>\n",
              "<table border=\"1\" class=\"dataframe\">\n",
              "  <thead>\n",
              "    <tr style=\"text-align: right;\">\n",
              "      <th></th>\n",
              "      <th>YEAR</th>\n",
              "      <th>JAN</th>\n",
              "      <th>FEB</th>\n",
              "      <th>MAR</th>\n",
              "      <th>APR</th>\n",
              "      <th>MAY</th>\n",
              "      <th>JUN</th>\n",
              "      <th>JUL</th>\n",
              "      <th>AUG</th>\n",
              "      <th>SEP</th>\n",
              "      <th>OCT</th>\n",
              "      <th>NOV</th>\n",
              "      <th>DEC</th>\n",
              "      <th>ANNUAL RAINFALL</th>\n",
              "    </tr>\n",
              "  </thead>\n",
              "  <tbody>\n",
              "    <tr>\n",
              "      <th>YEAR</th>\n",
              "      <td>1.000000</td>\n",
              "      <td>-0.225531</td>\n",
              "      <td>0.003879</td>\n",
              "      <td>-0.012842</td>\n",
              "      <td>0.086865</td>\n",
              "      <td>-0.059661</td>\n",
              "      <td>-0.174938</td>\n",
              "      <td>-0.223403</td>\n",
              "      <td>0.044173</td>\n",
              "      <td>0.107655</td>\n",
              "      <td>-0.030223</td>\n",
              "      <td>-0.130129</td>\n",
              "      <td>-0.123643</td>\n",
              "      <td>-0.198048</td>\n",
              "    </tr>\n",
              "    <tr>\n",
              "      <th>JAN</th>\n",
              "      <td>-0.225531</td>\n",
              "      <td>1.000000</td>\n",
              "      <td>0.019613</td>\n",
              "      <td>0.078626</td>\n",
              "      <td>0.034807</td>\n",
              "      <td>0.071420</td>\n",
              "      <td>0.189375</td>\n",
              "      <td>0.034423</td>\n",
              "      <td>0.008677</td>\n",
              "      <td>-0.113502</td>\n",
              "      <td>-0.035044</td>\n",
              "      <td>-0.011034</td>\n",
              "      <td>-0.089809</td>\n",
              "      <td>0.118648</td>\n",
              "    </tr>\n",
              "    <tr>\n",
              "      <th>FEB</th>\n",
              "      <td>0.003879</td>\n",
              "      <td>0.019613</td>\n",
              "      <td>1.000000</td>\n",
              "      <td>0.245375</td>\n",
              "      <td>0.123706</td>\n",
              "      <td>-0.083500</td>\n",
              "      <td>0.054114</td>\n",
              "      <td>0.005789</td>\n",
              "      <td>0.023259</td>\n",
              "      <td>0.066317</td>\n",
              "      <td>0.053133</td>\n",
              "      <td>-0.162880</td>\n",
              "      <td>-0.127025</td>\n",
              "      <td>0.061457</td>\n",
              "    </tr>\n",
              "    <tr>\n",
              "      <th>MAR</th>\n",
              "      <td>-0.012842</td>\n",
              "      <td>0.078626</td>\n",
              "      <td>0.245375</td>\n",
              "      <td>1.000000</td>\n",
              "      <td>0.074014</td>\n",
              "      <td>-0.102961</td>\n",
              "      <td>0.019000</td>\n",
              "      <td>0.018330</td>\n",
              "      <td>0.042411</td>\n",
              "      <td>0.143850</td>\n",
              "      <td>-0.023066</td>\n",
              "      <td>-0.032612</td>\n",
              "      <td>0.026292</td>\n",
              "      <td>0.116103</td>\n",
              "    </tr>\n",
              "    <tr>\n",
              "      <th>APR</th>\n",
              "      <td>0.086865</td>\n",
              "      <td>0.034807</td>\n",
              "      <td>0.123706</td>\n",
              "      <td>0.074014</td>\n",
              "      <td>1.000000</td>\n",
              "      <td>-0.114566</td>\n",
              "      <td>0.072990</td>\n",
              "      <td>0.014977</td>\n",
              "      <td>-0.047842</td>\n",
              "      <td>0.012928</td>\n",
              "      <td>0.113172</td>\n",
              "      <td>0.022206</td>\n",
              "      <td>-0.110392</td>\n",
              "      <td>0.112358</td>\n",
              "    </tr>\n",
              "    <tr>\n",
              "      <th>MAY</th>\n",
              "      <td>-0.059661</td>\n",
              "      <td>0.071420</td>\n",
              "      <td>-0.083500</td>\n",
              "      <td>-0.102961</td>\n",
              "      <td>-0.114566</td>\n",
              "      <td>1.000000</td>\n",
              "      <td>0.001235</td>\n",
              "      <td>-0.046518</td>\n",
              "      <td>-0.124412</td>\n",
              "      <td>0.116860</td>\n",
              "      <td>0.197102</td>\n",
              "      <td>0.094934</td>\n",
              "      <td>-0.118077</td>\n",
              "      <td>0.314723</td>\n",
              "    </tr>\n",
              "    <tr>\n",
              "      <th>JUN</th>\n",
              "      <td>-0.174938</td>\n",
              "      <td>0.189375</td>\n",
              "      <td>0.054114</td>\n",
              "      <td>0.019000</td>\n",
              "      <td>0.072990</td>\n",
              "      <td>0.001235</td>\n",
              "      <td>1.000000</td>\n",
              "      <td>0.094939</td>\n",
              "      <td>-0.014549</td>\n",
              "      <td>-0.052634</td>\n",
              "      <td>0.001156</td>\n",
              "      <td>0.015967</td>\n",
              "      <td>-0.085188</td>\n",
              "      <td>0.453407</td>\n",
              "    </tr>\n",
              "    <tr>\n",
              "      <th>JUL</th>\n",
              "      <td>-0.223403</td>\n",
              "      <td>0.034423</td>\n",
              "      <td>0.005789</td>\n",
              "      <td>0.018330</td>\n",
              "      <td>0.014977</td>\n",
              "      <td>-0.046518</td>\n",
              "      <td>0.094939</td>\n",
              "      <td>1.000000</td>\n",
              "      <td>0.154467</td>\n",
              "      <td>0.209441</td>\n",
              "      <td>0.025223</td>\n",
              "      <td>-0.028526</td>\n",
              "      <td>-0.013573</td>\n",
              "      <td>0.651990</td>\n",
              "    </tr>\n",
              "    <tr>\n",
              "      <th>AUG</th>\n",
              "      <td>0.044173</td>\n",
              "      <td>0.008677</td>\n",
              "      <td>0.023259</td>\n",
              "      <td>0.042411</td>\n",
              "      <td>-0.047842</td>\n",
              "      <td>-0.124412</td>\n",
              "      <td>-0.014549</td>\n",
              "      <td>0.154467</td>\n",
              "      <td>1.000000</td>\n",
              "      <td>0.098215</td>\n",
              "      <td>-0.181496</td>\n",
              "      <td>-0.112729</td>\n",
              "      <td>0.142090</td>\n",
              "      <td>0.413036</td>\n",
              "    </tr>\n",
              "    <tr>\n",
              "      <th>SEP</th>\n",
              "      <td>0.107655</td>\n",
              "      <td>-0.113502</td>\n",
              "      <td>0.066317</td>\n",
              "      <td>0.143850</td>\n",
              "      <td>0.012928</td>\n",
              "      <td>0.116860</td>\n",
              "      <td>-0.052634</td>\n",
              "      <td>0.209441</td>\n",
              "      <td>0.098215</td>\n",
              "      <td>1.000000</td>\n",
              "      <td>-0.032348</td>\n",
              "      <td>-0.027615</td>\n",
              "      <td>-0.011007</td>\n",
              "      <td>0.428344</td>\n",
              "    </tr>\n",
              "    <tr>\n",
              "      <th>OCT</th>\n",
              "      <td>-0.030223</td>\n",
              "      <td>-0.035044</td>\n",
              "      <td>0.053133</td>\n",
              "      <td>-0.023066</td>\n",
              "      <td>0.113172</td>\n",
              "      <td>0.197102</td>\n",
              "      <td>0.001156</td>\n",
              "      <td>0.025223</td>\n",
              "      <td>-0.181496</td>\n",
              "      <td>-0.032348</td>\n",
              "      <td>1.000000</td>\n",
              "      <td>-0.024060</td>\n",
              "      <td>-0.039067</td>\n",
              "      <td>0.205861</td>\n",
              "    </tr>\n",
              "    <tr>\n",
              "      <th>NOV</th>\n",
              "      <td>-0.130129</td>\n",
              "      <td>-0.011034</td>\n",
              "      <td>-0.162880</td>\n",
              "      <td>-0.032612</td>\n",
              "      <td>0.022206</td>\n",
              "      <td>0.094934</td>\n",
              "      <td>0.015967</td>\n",
              "      <td>-0.028526</td>\n",
              "      <td>-0.112729</td>\n",
              "      <td>-0.027615</td>\n",
              "      <td>-0.024060</td>\n",
              "      <td>1.000000</td>\n",
              "      <td>0.070720</td>\n",
              "      <td>0.148783</td>\n",
              "    </tr>\n",
              "    <tr>\n",
              "      <th>DEC</th>\n",
              "      <td>-0.123643</td>\n",
              "      <td>-0.089809</td>\n",
              "      <td>-0.127025</td>\n",
              "      <td>0.026292</td>\n",
              "      <td>-0.110392</td>\n",
              "      <td>-0.118077</td>\n",
              "      <td>-0.085188</td>\n",
              "      <td>-0.013573</td>\n",
              "      <td>0.142090</td>\n",
              "      <td>-0.011007</td>\n",
              "      <td>-0.039067</td>\n",
              "      <td>0.070720</td>\n",
              "      <td>1.000000</td>\n",
              "      <td>0.042967</td>\n",
              "    </tr>\n",
              "    <tr>\n",
              "      <th>ANNUAL RAINFALL</th>\n",
              "      <td>-0.198048</td>\n",
              "      <td>0.118648</td>\n",
              "      <td>0.061457</td>\n",
              "      <td>0.116103</td>\n",
              "      <td>0.112358</td>\n",
              "      <td>0.314723</td>\n",
              "      <td>0.453407</td>\n",
              "      <td>0.651990</td>\n",
              "      <td>0.413036</td>\n",
              "      <td>0.428344</td>\n",
              "      <td>0.205861</td>\n",
              "      <td>0.148783</td>\n",
              "      <td>0.042967</td>\n",
              "      <td>1.000000</td>\n",
              "    </tr>\n",
              "  </tbody>\n",
              "</table>\n",
              "</div>"
            ],
            "text/plain": [
              "                      YEAR       JAN  ...       DEC   ANNUAL RAINFALL\n",
              "YEAR              1.000000 -0.225531  ... -0.123643         -0.198048\n",
              "JAN              -0.225531  1.000000  ... -0.089809          0.118648\n",
              "FEB               0.003879  0.019613  ... -0.127025          0.061457\n",
              "MAR              -0.012842  0.078626  ...  0.026292          0.116103\n",
              "APR               0.086865  0.034807  ... -0.110392          0.112358\n",
              "MAY              -0.059661  0.071420  ... -0.118077          0.314723\n",
              "JUN              -0.174938  0.189375  ... -0.085188          0.453407\n",
              "JUL              -0.223403  0.034423  ... -0.013573          0.651990\n",
              "AUG               0.044173  0.008677  ...  0.142090          0.413036\n",
              "SEP               0.107655 -0.113502  ... -0.011007          0.428344\n",
              "OCT              -0.030223 -0.035044  ... -0.039067          0.205861\n",
              "NOV              -0.130129 -0.011034  ...  0.070720          0.148783\n",
              "DEC              -0.123643 -0.089809  ...  1.000000          0.042967\n",
              " ANNUAL RAINFALL -0.198048  0.118648  ...  0.042967          1.000000\n",
              "\n",
              "[14 rows x 14 columns]"
            ]
          },
          "metadata": {
            "tags": []
          },
          "execution_count": 10
        }
      ]
    },
    {
      "cell_type": "code",
      "metadata": {
        "colab": {
          "base_uri": "https://localhost:8080/",
          "height": 463
        },
        "id": "u_Y5dcyir6Zd",
        "outputId": "7786bfdd-eedb-49b3-adc7-86b9887de8e3"
      },
      "source": [
        "ax = dataset[['JAN', 'FEB', 'MAR', 'APR','MAY', 'JUN', 'AUG', 'SEP', 'OCT','NOV','DEC']].mean().plot.bar(width=0.5,edgecolor='k',align='center',linewidth=2,figsize=(14,6))\r\n",
        "plt.xlabel('Month',fontsize=30)\r\n",
        "plt.ylabel('Monthly Rainfall',fontsize=20)\r\n",
        "plt.title('Rainfall in Kerala for all Months',fontsize=25)\r\n",
        "ax.tick_params(labelsize=20)\r\n",
        "plt.grid()\r\n",
        "plt.ioff()"
      ],
      "execution_count": 13,
      "outputs": [
        {
          "output_type": "display_data",
          "data": {
            "image/png": "[encoded data removed]",
            "text/plain": [
              "<Figure size 1008x432 with 1 Axes>"
            ]
          },
          "metadata": {
            "tags": [],
            "needs_background": "light"
          }
        }
      ]
    },
    {
      "cell_type": "markdown",
      "metadata": {
        "id": "CgE2XO7Mnea4"
      },
      "source": [
        "Label Encoding on independent variable"
      ]
    },
    {
      "cell_type": "code",
      "metadata": {
        "id": "2pRIfPKanqOl"
      },
      "source": [
        "from sklearn.preprocessing import LabelEncoder\r\n",
        "le = LabelEncoder()\r\n",
        "y=le.fit_transform(y)"
      ],
      "execution_count": 14,
      "outputs": []
    },
    {
      "cell_type": "markdown",
      "metadata": {
        "id": "fBYNBiZZq0eY"
      },
      "source": [
        "Splitting the dataset into Training and Test set"
      ]
    },
    {
      "cell_type": "code",
      "metadata": {
        "id": "yDilwBp7q4Hc"
      },
      "source": [
        "from sklearn.model_selection import train_test_split\r\n",
        "X_train, X_test, y_train, y_test=train_test_split(X, y, test_size = 0.2, random_state=1)"
      ],
      "execution_count": 15,
      "outputs": []
    },
    {
      "cell_type": "markdown",
      "metadata": {
        "id": "2R0K74JVrMhq"
      },
      "source": [
        "Feature Scaling"
      ]
    },
    {
      "cell_type": "code",
      "metadata": {
        "colab": {
          "base_uri": "https://localhost:8080/"
        },
        "id": "Q0tDzXvurOvr",
        "outputId": "8fab8cd4-aa6c-499a-cc31-01d6573a158d"
      },
      "source": [
        "from sklearn import preprocessing\r\n",
        "minmax = preprocessing.MinMaxScaler(feature_range=(0,1))\r\n",
        "minmax.fit(X_train).transform(X_train)"
      ],
      "execution_count": 25,
      "outputs": [
        {
          "output_type": "execute_result",
          "data": {
            "text/plain": [
              "array([[0.        , 0.34371257, 0.56582278, ..., 0.39727673, 0.95570189,\n",
              "        0.2388724 ],\n",
              "       [0.00854701, 0.08023952, 0.03291139, ..., 0.5804966 , 0.37952709,\n",
              "        0.60039565],\n",
              "       [0.01709402, 0.03832335, 0.23544304, ..., 0.57188626, 0.37563604,\n",
              "        0.29129575],\n",
              "       ...,\n",
              "       [0.98290598, 0.02874251, 0.04810127, ..., 0.31517821, 0.28105358,\n",
              "        0.11622156],\n",
              "       [0.99145299, 0.02275449, 0.08607595, ..., 0.24809772, 0.18258007,\n",
              "        0.18793274],\n",
              "       [1.        , 0.34850299, 0.65949367, ..., 0.57589107, 0.28105358,\n",
              "        0.3214639 ]])"
            ]
          },
          "metadata": {
            "tags": []
          },
          "execution_count": 25
        }
      ]
    },
    {
      "cell_type": "code",
      "metadata": {
        "colab": {
          "base_uri": "https://localhost:8080/"
        },
        "id": "qba6uENY1zaw",
        "outputId": "ac70d3f5-8095-442c-fd32-dbf8c3900c7a"
      },
      "source": [
        "minmax.fit(X_test).transform(X_test)"
      ],
      "execution_count": 27,
      "outputs": [
        {
          "output_type": "execute_result",
          "data": {
            "text/plain": [
              "array([[0.81415929, 0.23831776, 0.12953368, 0.37487127, 0.62945736,\n",
              "        0.46062603, 0.22061296, 0.46872262, 0.43943606, 0.50115473,\n",
              "        0.1438499 , 0.46130221, 0.        ],\n",
              "       [0.46017699, 0.09579439, 0.12435233, 0.28115345, 0.58294574,\n",
              "        0.77133443, 0.59433596, 0.19738917, 0.        , 0.8339282 ,\n",
              "        0.56057447, 0.44748157, 0.22310306],\n",
              "       [0.50442478, 0.21728972, 0.17875648, 0.44799176, 1.        ,\n",
              "        0.76441516, 0.20367257, 0.51112669, 0.20015886, 0.69263069,\n",
              "        0.27727589, 1.        , 0.26727067],\n",
              "       [1.        , 0.05373832, 0.05958549, 0.36045314, 0.67131783,\n",
              "        0.18187809, 0.25785594, 0.21447345, 0.17772041, 0.27692631,\n",
              "        0.20778318, 0.28562654, 0.26613817],\n",
              "       [0.63716814, 0.11915888, 0.51554404, 0.64366632, 0.57209302,\n",
              "        0.14200988, 0.70037502, 0.31873138, 0.87351072, 0.87423893,\n",
              "        0.53903174, 0.5279484 , 0.22423556],\n",
              "       [0.38938053, 0.51635514, 0.66839378, 1.        , 0.66718346,\n",
              "        0.01598023, 0.30169404, 0.43963554, 1.        , 0.74154944,\n",
              "        0.11003011, 0.        , 0.53114383],\n",
              "       [0.25663717, 0.        , 0.4611399 , 0.28527291, 0.51627907,\n",
              "        0.9398682 , 0.0235355 , 0.48090065, 0.37172359, 0.57946672,\n",
              "        0.94278434, 0.58599509, 0.35334088],\n",
              "       [0.69026549, 0.16121495, 0.1373057 , 0.28424305, 0.3245478 ,\n",
              "        0.14876442, 0.76244666, 0.28237252, 0.51548848, 0.70396809,\n",
              "        0.29835534, 0.32616708, 0.48924122],\n",
              "       [0.40707965, 0.01168224, 0.00777202, 0.03707518, 0.43927649,\n",
              "        0.59967051, 0.27608949, 0.5179604 , 0.41540905, 0.65756876,\n",
              "        0.21519574, 0.1213145 , 0.01925255],\n",
              "       [0.84070796, 0.13785047, 0.01554404, 0.07415036, 0.24806202,\n",
              "        0.12454695, 0.52980732, 0.41519187, 0.26965846, 1.        ,\n",
              "        0.71484827, 0.31511057, 0.89807475],\n",
              "       [0.83185841, 0.04672897, 0.        , 0.36251287, 0.24547804,\n",
              "        0.09489292, 0.28630544, 0.70352199, 0.59571088, 0.52676884,\n",
              "        0.35371786, 0.81695332, 1.        ],\n",
              "       [0.84955752, 0.03971963, 0.57772021, 0.21112255, 0.50904393,\n",
              "        0.6214168 , 0.36790379, 0.46688278, 0.0601668 , 0.09804745,\n",
              "        1.        , 0.10964373, 0.05436014],\n",
              "       [0.        , 0.07242991, 0.44300518, 0.02265705, 0.36434109,\n",
              "        0.28616145, 0.30492694, 0.74908008, 0.36576648, 0.63090489,\n",
              "        0.50474867, 0.38267813, 0.66704417],\n",
              "       [0.77876106, 0.25233645, 0.07512953, 0.33264676, 0.43359173,\n",
              "        0.0616145 , 1.        , 0.64657438, 0.45571882, 0.01511652,\n",
              "        0.39749826, 0.20730958, 0.02491506],\n",
              "       [0.96460177, 0.17056075, 0.24611399, 0.20700309, 0.81653747,\n",
              "        0.03179572, 0.13901461, 0.17093044, 0.5274027 , 0.41948352,\n",
              "        0.11883252, 0.24723587, 0.10532276],\n",
              "       [0.47787611, 0.02570093, 0.37564767, 0.2554068 , 0.29509044,\n",
              "        0.50280066, 0.71020303, 0.58507097, 0.24384432, 0.        ,\n",
              "        0.33333333, 0.49170762, 0.32616082],\n",
              "       [0.90265487, 0.46028037, 0.14248705, 0.25128733, 0.99638243,\n",
              "        0.09686985, 0.38329238, 0.58279306, 0.10921366, 0.78395969,\n",
              "        0.2406764 , 0.46652334, 0.63759909],\n",
              "       [0.87610619, 0.10747664, 0.1865285 , 0.35839341, 0.53850129,\n",
              "        0.41976936, 0.2331566 , 0.1324689 , 0.40150913, 0.12114214,\n",
              "        0.869817  , 0.3227887 , 0.02265006],\n",
              "       [0.57522124, 0.1682243 , 0.75129534, 0.90937178, 0.62118863,\n",
              "        0.02306425, 0.48312427, 1.        , 0.28733122, 0.59647281,\n",
              "        0.09891128, 0.26719902, 0.36919592],\n",
              "       [0.53097345, 0.70327103, 0.60362694, 0.70957775, 0.42997416,\n",
              "        0.13360791, 0.09116772, 0.48422989, 0.54606831, 0.38337182,\n",
              "        0.33912439, 0.18734644, 0.54699887],\n",
              "       [0.67256637, 0.05373832, 0.73834197, 0.11122554, 0.14935401,\n",
              "        0.08517298, 0.3363507 , 0.4334151 , 0.29328832, 0.35775772,\n",
              "        0.06393329, 0.70423833, 0.26274066],\n",
              "       [0.13274336, 1.        , 0.09067358, 0.32852729, 0.19741602,\n",
              "        1.        , 0.18298203, 0.        , 0.27799841, 0.11568339,\n",
              "        0.22469307, 0.80773956, 0.61155153],\n",
              "       [0.7079646 , 0.00233645, 0.        , 0.        , 0.        ,\n",
              "        0.        , 0.        , 0.36420186, 0.68288324, 0.7973966 ,\n",
              "        0.        , 0.25829238, 0.78142695],\n",
              "       [0.97345133, 0.08878505, 1.        , 0.5046344 , 0.1870801 ,\n",
              "        0.07133443, 0.9309453 , 0.58060277, 0.26548848, 0.58219609,\n",
              "        0.28654158, 0.3762285 , 0.19139298]])"
            ]
          },
          "metadata": {
            "tags": []
          },
          "execution_count": 27
        }
      ]
    },
    {
      "cell_type": "code",
      "metadata": {
        "colab": {
          "base_uri": "https://localhost:8080/",
          "height": 239
        },
        "id": "ABe6S3bPuN2o",
        "outputId": "10e0c1a3-286d-4e32-f8eb-2b6f17cb4594"
      },
      "source": [
        "dataset.head()"
      ],
      "execution_count": 17,
      "outputs": [
        {
          "output_type": "execute_result",
          "data": {
            "text/html": [
              "<div>\n",
              "<style scoped>\n",
              "    .dataframe tbody tr th:only-of-type {\n",
              "        vertical-align: middle;\n",
              "    }\n",
              "\n",
              "    .dataframe tbody tr th {\n",
              "        vertical-align: top;\n",
              "    }\n",
              "\n",
              "    .dataframe thead th {\n",
              "        text-align: right;\n",
              "    }\n",
              "</style>\n",
              "<table border=\"1\" class=\"dataframe\">\n",
              "  <thead>\n",
              "    <tr style=\"text-align: right;\">\n",
              "      <th></th>\n",
              "      <th>SUBDIVISION</th>\n",
              "      <th>YEAR</th>\n",
              "      <th>JAN</th>\n",
              "      <th>FEB</th>\n",
              "      <th>MAR</th>\n",
              "      <th>APR</th>\n",
              "      <th>MAY</th>\n",
              "      <th>JUN</th>\n",
              "      <th>JUL</th>\n",
              "      <th>AUG</th>\n",
              "      <th>SEP</th>\n",
              "      <th>OCT</th>\n",
              "      <th>NOV</th>\n",
              "      <th>DEC</th>\n",
              "      <th>ANNUAL RAINFALL</th>\n",
              "      <th>FLOODS</th>\n",
              "    </tr>\n",
              "  </thead>\n",
              "  <tbody>\n",
              "    <tr>\n",
              "      <th>0</th>\n",
              "      <td>KERALA</td>\n",
              "      <td>1901</td>\n",
              "      <td>28.7</td>\n",
              "      <td>44.7</td>\n",
              "      <td>51.6</td>\n",
              "      <td>160.0</td>\n",
              "      <td>174.7</td>\n",
              "      <td>824.6</td>\n",
              "      <td>743.0</td>\n",
              "      <td>357.5</td>\n",
              "      <td>197.7</td>\n",
              "      <td>266.9</td>\n",
              "      <td>350.8</td>\n",
              "      <td>48.4</td>\n",
              "      <td>3248.6</td>\n",
              "      <td>YES</td>\n",
              "    </tr>\n",
              "    <tr>\n",
              "      <th>1</th>\n",
              "      <td>KERALA</td>\n",
              "      <td>1902</td>\n",
              "      <td>6.7</td>\n",
              "      <td>2.6</td>\n",
              "      <td>57.3</td>\n",
              "      <td>83.9</td>\n",
              "      <td>134.5</td>\n",
              "      <td>390.9</td>\n",
              "      <td>1205.0</td>\n",
              "      <td>315.8</td>\n",
              "      <td>491.6</td>\n",
              "      <td>358.4</td>\n",
              "      <td>158.3</td>\n",
              "      <td>121.5</td>\n",
              "      <td>3326.6</td>\n",
              "      <td>YES</td>\n",
              "    </tr>\n",
              "    <tr>\n",
              "      <th>2</th>\n",
              "      <td>KERALA</td>\n",
              "      <td>1903</td>\n",
              "      <td>3.2</td>\n",
              "      <td>18.6</td>\n",
              "      <td>3.1</td>\n",
              "      <td>83.6</td>\n",
              "      <td>249.7</td>\n",
              "      <td>558.6</td>\n",
              "      <td>1022.5</td>\n",
              "      <td>420.2</td>\n",
              "      <td>341.8</td>\n",
              "      <td>354.1</td>\n",
              "      <td>157.0</td>\n",
              "      <td>59.0</td>\n",
              "      <td>3271.2</td>\n",
              "      <td>YES</td>\n",
              "    </tr>\n",
              "    <tr>\n",
              "      <th>3</th>\n",
              "      <td>KERALA</td>\n",
              "      <td>1904</td>\n",
              "      <td>23.7</td>\n",
              "      <td>3.0</td>\n",
              "      <td>32.2</td>\n",
              "      <td>71.5</td>\n",
              "      <td>235.7</td>\n",
              "      <td>1098.2</td>\n",
              "      <td>725.5</td>\n",
              "      <td>351.8</td>\n",
              "      <td>222.7</td>\n",
              "      <td>328.1</td>\n",
              "      <td>33.9</td>\n",
              "      <td>3.3</td>\n",
              "      <td>3129.7</td>\n",
              "      <td>YES</td>\n",
              "    </tr>\n",
              "    <tr>\n",
              "      <th>4</th>\n",
              "      <td>KERALA</td>\n",
              "      <td>1905</td>\n",
              "      <td>1.2</td>\n",
              "      <td>22.3</td>\n",
              "      <td>9.4</td>\n",
              "      <td>105.9</td>\n",
              "      <td>263.3</td>\n",
              "      <td>850.2</td>\n",
              "      <td>520.5</td>\n",
              "      <td>293.6</td>\n",
              "      <td>217.2</td>\n",
              "      <td>383.5</td>\n",
              "      <td>74.4</td>\n",
              "      <td>0.2</td>\n",
              "      <td>2741.6</td>\n",
              "      <td>NO</td>\n",
              "    </tr>\n",
              "  </tbody>\n",
              "</table>\n",
              "</div>"
            ],
            "text/plain": [
              "  SUBDIVISION  YEAR   JAN   FEB  ...    NOV    DEC   ANNUAL RAINFALL  FLOODS\n",
              "0      KERALA  1901  28.7  44.7  ...  350.8   48.4            3248.6     YES\n",
              "1      KERALA  1902   6.7   2.6  ...  158.3  121.5            3326.6     YES\n",
              "2      KERALA  1903   3.2  18.6  ...  157.0   59.0            3271.2     YES\n",
              "3      KERALA  1904  23.7   3.0  ...   33.9    3.3            3129.7     YES\n",
              "4      KERALA  1905   1.2  22.3  ...   74.4    0.2            2741.6      NO\n",
              "\n",
              "[5 rows x 16 columns]"
            ]
          },
          "metadata": {
            "tags": []
          },
          "execution_count": 17
        }
      ]
    },
    {
      "cell_type": "code",
      "metadata": {
        "colab": {
          "base_uri": "https://localhost:8080/"
        },
        "id": "uDbuatCduTjl",
        "outputId": "58d92110-9ab4-4d34-dfac-0208838ddfcd"
      },
      "source": [
        "print(y)"
      ],
      "execution_count": 19,
      "outputs": [
        {
          "output_type": "stream",
          "text": [
            "[1 1 1 1 0 0 1 0 1 0 0 1 0 0 1 1 0 0 1 1 0 1 1 1 1 1 1 0 1 1 1 1 1 0 0 1 0\n",
            " 0 1 1 1 1 1 0 0 1 1 1 1 1 0 0 0 1 1 0 1 1 1 1 1 1 0 0 0 0 0 1 0 0 1 0 0 0\n",
            " 1 0 1 1 0 0 1 0 0 0 0 0 0 0 0 0 1 1 0 1 0 0 1 1 0 0 0 0 0 0 1 1 1 0 0 1 1\n",
            " 0 1 1 0 0 0 1]\n"
          ],
          "name": "stdout"
        }
      ]
    },
    {
      "cell_type": "markdown",
      "metadata": {
        "id": "MDgnoggYuwYB"
      },
      "source": [
        "Train Logistic Regression model"
      ]
    },
    {
      "cell_type": "code",
      "metadata": {
        "id": "yTT9xTcvu2XP"
      },
      "source": [
        "x_train_std=minmax.fit_transform(X_train)         # fit the values in between 0 and 1.\r\n",
        "y_train_std=minmax.transform(X_test)\r\n",
        "\r\n",
        "from sklearn.model_selection import cross_val_score,cross_val_predict\r\n",
        "from sklearn.linear_model import LogisticRegression\r\n",
        "lr=LogisticRegression(random_state=1,max_iter=1000)\r\n",
        "lr.fit(X_train,y_train)\r\n",
        "lr_acc=cross_val_score(lr,x_train_std,y_train,cv=3,scoring='accuracy',n_jobs=-1)\r\n",
        "lr_proba=cross_val_predict(lr,x_train_std,y_train,cv=3,method='predict_proba')"
      ],
      "execution_count": 33,
      "outputs": []
    },
    {
      "cell_type": "code",
      "metadata": {
        "colab": {
          "base_uri": "https://localhost:8080/"
        },
        "id": "nfywOklkvaTy",
        "outputId": "2c9efcf5-67b2-4faa-e867-e115648599f9"
      },
      "source": [
        "lr_acc #print accuracy"
      ],
      "execution_count": 34,
      "outputs": [
        {
          "output_type": "execute_result",
          "data": {
            "text/plain": [
              "array([0.78125   , 0.80645161, 0.80645161])"
            ]
          },
          "metadata": {
            "tags": []
          },
          "execution_count": 34
        }
      ]
    },
    {
      "cell_type": "code",
      "metadata": {
        "colab": {
          "base_uri": "https://localhost:8080/"
        },
        "id": "qSsNBBMPvbmV",
        "outputId": "47cb27f7-6cb6-4ade-d1da-31475508bcd7"
      },
      "source": [
        "lr_proba #print class probability for each training instance"
      ],
      "execution_count": 35,
      "outputs": [
        {
          "output_type": "execute_result",
          "data": {
            "text/plain": [
              "array([[0.64679304, 0.35320696],\n",
              "       [0.74399794, 0.25600206],\n",
              "       [0.34069424, 0.65930576],\n",
              "       [0.66956904, 0.33043096],\n",
              "       [0.75897195, 0.24102805],\n",
              "       [0.49898667, 0.50101333],\n",
              "       [0.53038635, 0.46961365],\n",
              "       [0.19486814, 0.80513186],\n",
              "       [0.2709483 , 0.7290517 ],\n",
              "       [0.65965961, 0.34034039],\n",
              "       [0.45008012, 0.54991988],\n",
              "       [0.53042406, 0.46957594],\n",
              "       [0.1223646 , 0.8776354 ],\n",
              "       [0.59972912, 0.40027088],\n",
              "       [0.50676189, 0.49323811],\n",
              "       [0.28406964, 0.71593036],\n",
              "       [0.32266926, 0.67733074],\n",
              "       [0.67450254, 0.32549746],\n",
              "       [0.64695753, 0.35304247],\n",
              "       [0.55131497, 0.44868503],\n",
              "       [0.46865301, 0.53134699],\n",
              "       [0.53916874, 0.46083126],\n",
              "       [0.72716779, 0.27283221],\n",
              "       [0.7923729 , 0.2076271 ],\n",
              "       [0.31655284, 0.68344716],\n",
              "       [0.52671904, 0.47328096],\n",
              "       [0.66643042, 0.33356958],\n",
              "       [0.43310807, 0.56689193],\n",
              "       [0.16096575, 0.83903425],\n",
              "       [0.63683111, 0.36316889],\n",
              "       [0.38967863, 0.61032137],\n",
              "       [0.5797042 , 0.4202958 ],\n",
              "       [0.45026097, 0.54973903],\n",
              "       [0.77356529, 0.22643471],\n",
              "       [0.48871687, 0.51128313],\n",
              "       [0.53416624, 0.46583376],\n",
              "       [0.62182391, 0.37817609],\n",
              "       [0.83578464, 0.16421536],\n",
              "       [0.35114008, 0.64885992],\n",
              "       [0.46452904, 0.53547096],\n",
              "       [0.75525805, 0.24474195],\n",
              "       [0.44926259, 0.55073741],\n",
              "       [0.65502351, 0.34497649],\n",
              "       [0.50758137, 0.49241863],\n",
              "       [0.58179093, 0.41820907],\n",
              "       [0.67064148, 0.32935852],\n",
              "       [0.41479967, 0.58520033],\n",
              "       [0.29939156, 0.70060844],\n",
              "       [0.48311965, 0.51688035],\n",
              "       [0.50231963, 0.49768037],\n",
              "       [0.27253551, 0.72746449],\n",
              "       [0.51361591, 0.48638409],\n",
              "       [0.59431731, 0.40568269],\n",
              "       [0.43712501, 0.56287499],\n",
              "       [0.63419014, 0.36580986],\n",
              "       [0.38919974, 0.61080026],\n",
              "       [0.15802007, 0.84197993],\n",
              "       [0.21902128, 0.78097872],\n",
              "       [0.81612395, 0.18387605],\n",
              "       [0.51730205, 0.48269795],\n",
              "       [0.33253637, 0.66746363],\n",
              "       [0.58639965, 0.41360035],\n",
              "       [0.48051981, 0.51948019],\n",
              "       [0.6968834 , 0.3031166 ],\n",
              "       [0.68018208, 0.31981792],\n",
              "       [0.5863535 , 0.4136465 ],\n",
              "       [0.77710796, 0.22289204],\n",
              "       [0.69390254, 0.30609746],\n",
              "       [0.66978531, 0.33021469],\n",
              "       [0.65345321, 0.34654679],\n",
              "       [0.87052632, 0.12947368],\n",
              "       [0.25700947, 0.74299053],\n",
              "       [0.37066918, 0.62933082],\n",
              "       [0.32684231, 0.67315769],\n",
              "       [0.3958617 , 0.6041383 ],\n",
              "       [0.62043287, 0.37956713],\n",
              "       [0.28868075, 0.71131925],\n",
              "       [0.57296747, 0.42703253],\n",
              "       [0.45022901, 0.54977099],\n",
              "       [0.45230255, 0.54769745],\n",
              "       [0.23306666, 0.76693334],\n",
              "       [0.680487  , 0.319513  ],\n",
              "       [0.48019583, 0.51980417],\n",
              "       [0.33162275, 0.66837725],\n",
              "       [0.38082487, 0.61917513],\n",
              "       [0.67452523, 0.32547477],\n",
              "       [0.62763934, 0.37236066],\n",
              "       [0.56268304, 0.43731696],\n",
              "       [0.80611945, 0.19388055],\n",
              "       [0.44089633, 0.55910367],\n",
              "       [0.78555004, 0.21444996],\n",
              "       [0.67211305, 0.32788695],\n",
              "       [0.79325512, 0.20674488],\n",
              "       [0.6785067 , 0.3214933 ]])"
            ]
          },
          "metadata": {
            "tags": []
          },
          "execution_count": 35
        }
      ]
    },
    {
      "cell_type": "code",
      "metadata": {
        "colab": {
          "base_uri": "https://localhost:8080/"
        },
        "id": "uEXIXXu8vrhp",
        "outputId": "0e115ab6-a7fa-4a82-bf12-de2a0a5c1130"
      },
      "source": [
        "y_pred=lr.predict(X_test)\r\n",
        "print(np.concatenate((y_pred.reshape(len(y_pred),1), y_test.reshape(len(y_test),1)), 1))"
      ],
      "execution_count": 36,
      "outputs": [
        {
          "output_type": "stream",
          "text": [
            "[[0 0]\n",
            " [1 1]\n",
            " [1 1]\n",
            " [0 0]\n",
            " [1 1]\n",
            " [1 1]\n",
            " [1 1]\n",
            " [1 1]\n",
            " [0 1]\n",
            " [1 1]\n",
            " [1 1]\n",
            " [0 0]\n",
            " [1 1]\n",
            " [1 1]\n",
            " [0 0]\n",
            " [1 1]\n",
            " [1 1]\n",
            " [0 0]\n",
            " [1 1]\n",
            " [0 0]\n",
            " [0 0]\n",
            " [0 0]\n",
            " [0 0]\n",
            " [1 1]]\n"
          ],
          "name": "stdout"
        }
      ]
    },
    {
      "cell_type": "markdown",
      "metadata": {
        "id": "EOZ8zqY4xTvH"
      },
      "source": [
        "Accuracy and Efficiency of model"
      ]
    },
    {
      "cell_type": "code",
      "metadata": {
        "colab": {
          "base_uri": "https://localhost:8080/"
        },
        "id": "iMpuWle6weN8",
        "outputId": "03ddd373-1275-494d-bcb0-4ba9c5139157"
      },
      "source": [
        "from sklearn.metrics import accuracy_score,recall_score,confusion_matrix\r\n",
        "print(\"\\naccuracy score:%f\"%(accuracy_score(y_test,y_pred)*100))\r\n",
        "print(\"recall score:%f\"%(recall_score(y_test,y_pred)*100))\r\n",
        "print(confusion_matrix(y_test,y_pred))"
      ],
      "execution_count": 37,
      "outputs": [
        {
          "output_type": "stream",
          "text": [
            "\n",
            "accuracy score:95.833333\n",
            "recall score:93.333333\n",
            "[[ 9  0]\n",
            " [ 1 14]]\n"
          ],
          "name": "stdout"
        }
      ]
    },
    {
      "cell_type": "markdown",
      "metadata": {
        "id": "D2cOUoD5xhsj"
      },
      "source": [
        "Train Decision Tree Classification Model"
      ]
    },
    {
      "cell_type": "code",
      "metadata": {
        "colab": {
          "base_uri": "https://localhost:8080/"
        },
        "id": "l7FHm3hAxozY",
        "outputId": "cec8747e-c35e-4abc-d263-daa8bb61615a"
      },
      "source": [
        "from sklearn.tree import DecisionTreeClassifier\r\n",
        "dtc_clf=DecisionTreeClassifier()\r\n",
        "dtc_clf.fit(X_train,y_train)\r\n",
        "dtc_clf_acc=cross_val_score(dtc_clf,X_train,y_train,cv=3,scoring=\"accuracy\",n_jobs=-1)\r\n",
        "dtc_clf_acc"
      ],
      "execution_count": 38,
      "outputs": [
        {
          "output_type": "execute_result",
          "data": {
            "text/plain": [
              "array([0.6875    , 0.58064516, 0.70967742])"
            ]
          },
          "metadata": {
            "tags": []
          },
          "execution_count": 38
        }
      ]
    },
    {
      "cell_type": "code",
      "metadata": {
        "colab": {
          "base_uri": "https://localhost:8080/"
        },
        "id": "93MR0LHjxxsL",
        "outputId": "b9a28912-d064-46db-eeac-82fa5ec69165"
      },
      "source": [
        "y_pred=dtc_clf.predict(X_test)\r\n",
        "print(np.concatenate((y_pred.reshape(len(y_pred),1), y_test.reshape(len(y_test),1)), 1))"
      ],
      "execution_count": 39,
      "outputs": [
        {
          "output_type": "stream",
          "text": [
            "[[0 0]\n",
            " [1 1]\n",
            " [0 1]\n",
            " [0 0]\n",
            " [0 1]\n",
            " [1 1]\n",
            " [0 1]\n",
            " [1 1]\n",
            " [0 1]\n",
            " [1 1]\n",
            " [0 1]\n",
            " [1 0]\n",
            " [0 1]\n",
            " [0 1]\n",
            " [0 0]\n",
            " [0 1]\n",
            " [1 1]\n",
            " [0 0]\n",
            " [1 1]\n",
            " [1 0]\n",
            " [0 0]\n",
            " [1 0]\n",
            " [0 0]\n",
            " [1 1]]\n"
          ],
          "name": "stdout"
        }
      ]
    },
    {
      "cell_type": "markdown",
      "metadata": {
        "id": "tyyqSI2TyEFf"
      },
      "source": [
        "Accuracy and Efficiency of model"
      ]
    },
    {
      "cell_type": "code",
      "metadata": {
        "colab": {
          "base_uri": "https://localhost:8080/"
        },
        "id": "sM1efFhxyIEk",
        "outputId": "d78333cf-467f-41d7-99b9-ded9de194a6a"
      },
      "source": [
        "from sklearn.metrics import accuracy_score,recall_score,confusion_matrix\r\n",
        "print(\"\\naccuracy score:%f\"%(accuracy_score(y_test,y_pred)*100))\r\n",
        "print(\"recall score:%f\"%(recall_score(y_test,y_pred)*100))\r\n",
        "print(confusion_matrix(y_test,y_pred))"
      ],
      "execution_count": 40,
      "outputs": [
        {
          "output_type": "stream",
          "text": [
            "\n",
            "accuracy score:54.166667\n",
            "recall score:46.666667\n",
            "[[6 3]\n",
            " [8 7]]\n"
          ],
          "name": "stdout"
        }
      ]
    },
    {
      "cell_type": "markdown",
      "metadata": {
        "id": "6XJxlCL8yRH0"
      },
      "source": [
        "Train Random Forest Classifier model"
      ]
    },
    {
      "cell_type": "code",
      "metadata": {
        "id": "tTjcbJgcyg2I"
      },
      "source": [
        "from sklearn.ensemble import RandomForestClassifier\r\n",
        "rmf=RandomForestClassifier(max_depth=3,random_state=0)\r\n",
        "rmf_clf=rmf.fit(X_train,y_train)"
      ],
      "execution_count": 41,
      "outputs": []
    },
    {
      "cell_type": "code",
      "metadata": {
        "id": "KyAx_FUeyk8K"
      },
      "source": [
        "rmf_clf_acc=cross_val_score(rmf_clf,X_train,y_train,cv=3,scoring=\"accuracy\",n_jobs=-1)\r\n",
        "rmf_proba=cross_val_predict(rmf_clf,X_train,y_train,cv=3,method='predict_proba')"
      ],
      "execution_count": 42,
      "outputs": []
    },
    {
      "cell_type": "code",
      "metadata": {
        "colab": {
          "base_uri": "https://localhost:8080/"
        },
        "id": "8DFJ7Ib5y3CL",
        "outputId": "5594eb38-f5e2-4da1-e10d-c9951489a974"
      },
      "source": [
        "y_pred=rmf_clf.predict(X_test)\r\n",
        "print(np.concatenate((y_pred.reshape(len(y_pred),1), y_test.reshape(len(y_test),1)), 1))"
      ],
      "execution_count": 43,
      "outputs": [
        {
          "output_type": "stream",
          "text": [
            "[[0 0]\n",
            " [1 1]\n",
            " [1 1]\n",
            " [0 0]\n",
            " [1 1]\n",
            " [1 1]\n",
            " [1 1]\n",
            " [1 1]\n",
            " [0 1]\n",
            " [0 1]\n",
            " [0 1]\n",
            " [0 0]\n",
            " [1 1]\n",
            " [0 1]\n",
            " [0 0]\n",
            " [1 1]\n",
            " [1 1]\n",
            " [0 0]\n",
            " [1 1]\n",
            " [0 0]\n",
            " [0 0]\n",
            " [0 0]\n",
            " [0 0]\n",
            " [1 1]]\n"
          ],
          "name": "stdout"
        }
      ]
    },
    {
      "cell_type": "markdown",
      "metadata": {
        "id": "A4yOhzH8zG3j"
      },
      "source": [
        "Accuracy and Efficiency of model"
      ]
    },
    {
      "cell_type": "code",
      "metadata": {
        "colab": {
          "base_uri": "https://localhost:8080/"
        },
        "id": "SOlAeTZazLqi",
        "outputId": "b21124a0-dc2e-4e87-86ed-3e2a8de37f22"
      },
      "source": [
        "from sklearn.metrics import accuracy_score,recall_score,confusion_matrix\r\n",
        "print(\"\\naccuracy score:%f\"%(accuracy_score(y_test,y_pred)*100))\r\n",
        "print(\"recall score:%f\"%(recall_score(y_test,y_pred)*100))\r\n",
        "print(confusion_matrix(y_test,y_pred))"
      ],
      "execution_count": 44,
      "outputs": [
        {
          "output_type": "stream",
          "text": [
            "\n",
            "accuracy score:83.333333\n",
            "recall score:73.333333\n",
            "[[ 9  0]\n",
            " [ 4 11]]\n"
          ],
          "name": "stdout"
        }
      ]
    },
    {
      "cell_type": "markdown",
      "metadata": {
        "id": "l34ptryezSWk"
      },
      "source": [
        "Final Accuracy and Comparison of all models"
      ]
    },
    {
      "cell_type": "code",
      "metadata": {
        "colab": {
          "base_uri": "https://localhost:8080/",
          "height": 141
        },
        "id": "0ImaFN21zZ5N",
        "outputId": "d6915502-5361-4bc6-96ca-a7fa8d03fa8e"
      },
      "source": [
        "\r\n",
        "models = []\r\n",
        "from sklearn.linear_model import LogisticRegression\r\n",
        "from sklearn.tree import DecisionTreeClassifier\r\n",
        "from sklearn.ensemble import RandomForestClassifier\r\n",
        "models.append(('LR', LogisticRegression(max_iter=1000)))\r\n",
        "models.append(('DT', DecisionTreeClassifier()))\r\n",
        "models.append(('RF', RandomForestClassifier()))\r\n",
        "\r\n",
        "names = []\r\n",
        "scores = []\r\n",
        "for name, model in models:\r\n",
        "    model.fit(X_train, y_train)\r\n",
        "    y_pred = model.predict(X_test)\r\n",
        "    scores.append(accuracy_score(y_test, y_pred))\r\n",
        "    names.append(name)\r\n",
        "tr_split = pd.DataFrame({'Name': names, 'Score': scores})\r\n",
        "tr_split"
      ],
      "execution_count": 46,
      "outputs": [
        {
          "output_type": "execute_result",
          "data": {
            "text/html": [
              "<div>\n",
              "<style scoped>\n",
              "    .dataframe tbody tr th:only-of-type {\n",
              "        vertical-align: middle;\n",
              "    }\n",
              "\n",
              "    .dataframe tbody tr th {\n",
              "        vertical-align: top;\n",
              "    }\n",
              "\n",
              "    .dataframe thead th {\n",
              "        text-align: right;\n",
              "    }\n",
              "</style>\n",
              "<table border=\"1\" class=\"dataframe\">\n",
              "  <thead>\n",
              "    <tr style=\"text-align: right;\">\n",
              "      <th></th>\n",
              "      <th>Name</th>\n",
              "      <th>Score</th>\n",
              "    </tr>\n",
              "  </thead>\n",
              "  <tbody>\n",
              "    <tr>\n",
              "      <th>0</th>\n",
              "      <td>LR</td>\n",
              "      <td>0.958333</td>\n",
              "    </tr>\n",
              "    <tr>\n",
              "      <th>1</th>\n",
              "      <td>DT</td>\n",
              "      <td>0.583333</td>\n",
              "    </tr>\n",
              "    <tr>\n",
              "      <th>2</th>\n",
              "      <td>RF</td>\n",
              "      <td>0.833333</td>\n",
              "    </tr>\n",
              "  </tbody>\n",
              "</table>\n",
              "</div>"
            ],
            "text/plain": [
              "  Name     Score\n",
              "0   LR  0.958333\n",
              "1   DT  0.583333\n",
              "2   RF  0.833333"
            ]
          },
          "metadata": {
            "tags": []
          },
          "execution_count": 46
        }
      ]
    },
    {
      "cell_type": "code",
      "metadata": {
        "colab": {
          "base_uri": "https://localhost:8080/",
          "height": 282
        },
        "id": "6tu9xeYBzo_9",
        "outputId": "af10f2b7-05ab-46f2-9e87-269c06286347"
      },
      "source": [
        "\r\n",
        "import seaborn as sns\r\n",
        "axis = sns.barplot(x = 'Name', y = 'Score', data =tr_split )\r\n",
        "axis.set(xlabel='Classifier Models', ylabel='Accuracy of the Model')\r\n",
        "for p in axis.patches:\r\n",
        "    height = p.get_height()\r\n",
        "    axis.text(p.get_x() + p.get_width()/2, height + 0.01, '{:1.4f}'.format(height), ha=\"center\") \r\n",
        "    \r\n",
        "plt.show()"
      ],
      "execution_count": 47,
      "outputs": [
        {
          "output_type": "display_data",
          "data": {
            "image/png": "[encoded data removed]",
            "text/plain": [
              "<Figure size 432x288 with 1 Axes>"
            ]
          },
          "metadata": {
            "tags": [],
            "needs_background": "light"
          }
        }
      ]
    },
    {
      "cell_type": "code",
      "metadata": {
        "colab": {
          "base_uri": "https://localhost:8080/"
        },
        "id": "JZ3NAjkzzxT2",
        "outputId": "a07b0e1c-d663-4ba4-ec18-93aef9ecd1a3"
      },
      "source": [
        "tr_split['Score'].max()"
      ],
      "execution_count": 48,
      "outputs": [
        {
          "output_type": "execute_result",
          "data": {
            "text/plain": [
              "0.9583333333333334"
            ]
          },
          "metadata": {
            "tags": []
          },
          "execution_count": 48
        }
      ]
    }
  ]
}